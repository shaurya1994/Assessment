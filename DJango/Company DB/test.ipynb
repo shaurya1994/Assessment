{
 "cells": [
  {
   "cell_type": "code",
   "execution_count": null,
   "metadata": {},
   "outputs": [],
   "source": [
    "from pymongo import MongoClient\n",
    "\n",
    "# Connection URI\n",
    "uri = 'mongodb://127.0.0.1:27017/?directConnection=true&serverSelectionTimeoutMS=2000&appName=mongosh+2.2.6'\n",
    "\n",
    "# Database and collection names\n",
    "db_name = 'legendaryAnimals'\n",
    "collection_name = 'Animals'\n",
    "\n",
    "# Create a MongoClient instance\n",
    "client = MongoClient(uri)\n",
    "\n",
    "# Access the database\n",
    "db = client[db_name]\n",
    "\n",
    "# Access the collection\n",
    "collection = db[collection_name]\n",
    "\n",
    "# Query documents from the collection\n",
    "documents = collection.find({'animal_name': 'Iron Turtle'})\n",
    "\n",
    "# Print the documents\n",
    "for document in documents:\n",
    "    print(document)\n",
    "\n",
    "# Close the connection\n",
    "client.close()\n"
   ]
  }
 ],
 "metadata": {
  "kernelspec": {
   "display_name": "tf-gpu",
   "language": "python",
   "name": "python3"
  },
  "language_info": {
   "name": "python",
   "version": "3.9.7"
  }
 },
 "nbformat": 4,
 "nbformat_minor": 2
}
