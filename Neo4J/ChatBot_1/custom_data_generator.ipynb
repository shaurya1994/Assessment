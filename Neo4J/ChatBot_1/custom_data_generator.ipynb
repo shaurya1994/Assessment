{
 "cells": [
  {
   "cell_type": "code",
   "execution_count": 1,
   "metadata": {},
   "outputs": [],
   "source": [
    "import json "
   ]
  },
  {
   "cell_type": "code",
   "execution_count": 8,
   "metadata": {},
   "outputs": [
    {
     "name": "stdout",
     "output_type": "stream",
     "text": [
      "Name: Maharashtra, Capital: Mumbai, Latitude: 19.076, Longitude: 72.8777\n"
     ]
    }
   ],
   "source": [
    "# Open the JSON file and load the data\n",
    "with open('coordinates_data.json', 'r') as file:\n",
    "    data = json.load(file)\n",
    "\n",
    "# Function to get state information by name\n",
    "def get_state_info(state_name):\n",
    "    for state in data['states']:\n",
    "        if state['name'] == state_name:\n",
    "            return state\n",
    "    return None\n",
    "\n",
    "# Get the state information for a specific name\n",
    "# state_name = input(\"Enter the name of the state: \")\n",
    "state_name = \"Maharashtra\"\n",
    "state_info = get_state_info(state_name)\n",
    "\n",
    "if state_info:\n",
    "    print(f\"Name: {state_info['name']}, Capital: {state_info['capital']}, Latitude: {state_info['latitude']}, Longitude: {state_info['longitude']}\")\n",
    "else:\n",
    "    print(f\"No information found for {state_name}\")"
   ]
  }
 ],
 "metadata": {
  "kernelspec": {
   "display_name": "rasa_bot",
   "language": "python",
   "name": "python3"
  },
  "language_info": {
   "codemirror_mode": {
    "name": "ipython",
    "version": 3
   },
   "file_extension": ".py",
   "mimetype": "text/x-python",
   "name": "python",
   "nbconvert_exporter": "python",
   "pygments_lexer": "ipython3",
   "version": "3.10.13"
  }
 },
 "nbformat": 4,
 "nbformat_minor": 2
}
