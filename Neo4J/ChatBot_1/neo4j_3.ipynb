{
 "cells": [
  {
   "cell_type": "code",
   "execution_count": 1,
   "metadata": {},
   "outputs": [],
   "source": [
    "from neo4j import GraphDatabase"
   ]
  },
  {
   "cell_type": "code",
   "execution_count": null,
   "metadata": {},
   "outputs": [],
   "source": [
    "uri = 'bolt://3.235.199.107:7687'\n",
    "username = 'neo4j'\n",
    "password = 'animal-consideration-snaps'\n",
    "\n",
    "driver = GraphDatabase.driver(uri, auth=(username, password))\n",
    "\n",
    "# def matchQuestion(tx, intent, thing):\n",
    "\n",
    "#     result = tx.run(\"MATCH (e:thing) WHERE e.name = {thing}\"\n",
    "#            \"RETURN e.description\", thing=thing)\n",
    "\n",
    "    # print(result)\n",
    "\n",
    "with driver.session() as session:\n",
    "    session.read_transaction(matchQuestion, \"define\",\"A\")"
   ]
  },
  {
   "cell_type": "code",
   "execution_count": null,
   "metadata": {},
   "outputs": [],
   "source": [
    "from neo4j import GraphDatabase\n",
    "\n",
    "# Neo4j connection settings\n",
    "uri = 'bolt://3.235.199.107:7687'\n",
    "username = 'neo4j'\n",
    "password = 'animal-consideration-snaps'\n",
    "\n",
    "# Function to execute a Cypher query\n",
    "def run_query(query):\n",
    "    # Connect to Neo4j\n",
    "    driver = GraphDatabase.driver(uri, auth=(username, password))\n",
    "    \n",
    "    # Run the query\n",
    "    with driver.session() as session:\n",
    "        result = session.run(query)\n",
    "        return result\n",
    "    \n",
    "    # Close the driver\n",
    "    driver.close()\n",
    "\n",
    "# Example usage\n",
    "if __name__ == \"__main__\":\n",
    "\n",
    "    cypher_query = \"MATCH (a:Person{name:'Tom Cruise'})-[:ACTED_IN]->(m:Movie) RETURN m.title, m.imdbRating limit 3\"\n",
    "    \n",
    "    # Execute the query\n",
    "    result = run_query(cypher_query)\n",
    "    \n",
    "    # Process the result\n",
    "    for record in result:\n",
    "        print(record)\n"
   ]
  },
  {
   "cell_type": "code",
   "execution_count": 4,
   "metadata": {},
   "outputs": [
    {
     "name": "stdout",
     "output_type": "stream",
     "text": [
      "<Record Title='Rock of Ages' IMDB=5.9>\n",
      "<Record Title='Interview with the Vampire: The Vampire Chronicles' IMDB=7.6>\n",
      "<Record Title='Color of Money, The' IMDB=7.0>\n",
      "The query `MATCH (a:Person{name: $act_name})-[:ACTED_IN]->(m:Movie) RETURN m.title as Title, m.imdbRating as IMDB limit 3` returned 3 records in 117 ms.\n"
     ]
    }
   ],
   "source": [
    "driver = GraphDatabase.driver(uri, auth=(username, password))\n",
    "\n",
    "records, summary, keys = driver.execute_query(\n",
    "    # \"MATCH (p:Person {age: $age}) RETURN p.name AS name\"\n",
    "    \"MATCH (a:Person{name: $act_name})-[:ACTED_IN]->(m:Movie) RETURN m.title as Title, m.imdbRating as IMDB limit 3\",\n",
    "    # \"MATCH (a:Person{name:'Tom Cruise'})-[:ACTED_IN]->(m:Movie) RETURN m.title as Title, m.imdbRating as IMDB limit 3\",\n",
    "    # age=42,\n",
    "    act_name = 'Tom Cruise'\n",
    "    # database_=\"neo4j\",\n",
    ")\n",
    "\n",
    "# Loop through results and do something with them\n",
    "# for person in records:\n",
    "#     print(person)\n",
    "\n",
    "# Summary information\n",
    "# print(\"The query `{query}` returned {records_count} records in {time} ms.\".format(\n",
    "#     query=summary.query, records_count=len(records),\n",
    "#     time=summary.result_available_after,\n",
    "# ))"
   ]
  },
  {
   "cell_type": "code",
   "execution_count": 8,
   "metadata": {},
   "outputs": [
    {
     "data": {
      "text/plain": [
       "[<Record Title='Rock of Ages' IMDB=5.9>,\n",
       " <Record Title='Interview with the Vampire: The Vampire Chronicles' IMDB=7.6>,\n",
       " <Record Title='Color of Money, The' IMDB=7.0>]"
      ]
     },
     "execution_count": 8,
     "metadata": {},
     "output_type": "execute_result"
    }
   ],
   "source": [
    "# print(keys)\n",
    "records"
   ]
  },
  {
   "cell_type": "code",
   "execution_count": 9,
   "metadata": {},
   "outputs": [
    {
     "name": "stdout",
     "output_type": "stream",
     "text": [
      "Rock of Ages: 5.9\n",
      "Interview with the Vampire: The Vampire Chronicles: 7.6\n",
      "Color of Money, The: 7.0\n"
     ]
    }
   ],
   "source": [
    "# Process all records\n",
    "formatted_results = []\n",
    "for record in records:\n",
    "    title = record[\"Title\"]\n",
    "    imdb_rating = record[\"IMDB\"]\n",
    "    formatted_result = f\"{title}: {imdb_rating}\"\n",
    "    formatted_results.append(formatted_result)\n",
    "\n",
    "# Print the formatted results\n",
    "for result in formatted_results:\n",
    "    print(result)\n"
   ]
  },
  {
   "cell_type": "code",
   "execution_count": 10,
   "metadata": {},
   "outputs": [
    {
     "name": "stdout",
     "output_type": "stream",
     "text": [
      "Title: Rock of Ages | IMDB Rating: 5.9\n",
      "Title: Interview with the Vampire: The Vampire Chronicles | IMDB Rating: 7.6\n",
      "Title: Color of Money, The | IMDB Rating: 7.0\n"
     ]
    }
   ],
   "source": [
    "# Process all records\n",
    "formatted_results = []\n",
    "for record in records:\n",
    "    title = record[\"Title\"]\n",
    "    imdb_rating = record[\"IMDB\"]\n",
    "    formatted_result = f\"Title: {title} | IMDB Rating: {imdb_rating}\"\n",
    "    formatted_results.append(formatted_result)\n",
    "\n",
    "# Print the formatted results\n",
    "for result in formatted_results:\n",
    "    print(result)"
   ]
  },
  {
   "cell_type": "code",
   "execution_count": 11,
   "metadata": {},
   "outputs": [],
   "source": [
    "import pandas as pd"
   ]
  },
  {
   "cell_type": "code",
   "execution_count": null,
   "metadata": {},
   "outputs": [],
   "source": []
  }
 ],
 "metadata": {
  "kernelspec": {
   "display_name": "rasa_bot",
   "language": "python",
   "name": "python3"
  },
  "language_info": {
   "codemirror_mode": {
    "name": "ipython",
    "version": 3
   },
   "file_extension": ".py",
   "mimetype": "text/x-python",
   "name": "python",
   "nbconvert_exporter": "python",
   "pygments_lexer": "ipython3",
   "version": "3.10.13"
  }
 },
 "nbformat": 4,
 "nbformat_minor": 2
}
