{
 "cells": [
  {
   "cell_type": "code",
   "execution_count": 1,
   "metadata": {},
   "outputs": [
    {
     "name": "stderr",
     "output_type": "stream",
     "text": [
      "c:\\Users\\shaur\\anaconda3\\envs\\rasa_bot\\lib\\site-packages\\tqdm\\auto.py:21: TqdmWarning: IProgress not found. Please update jupyter and ipywidgets. See https://ipywidgets.readthedocs.io/en/stable/user_install.html\n",
      "  from .autonotebook import tqdm as notebook_tqdm\n"
     ]
    }
   ],
   "source": []
  },
  {
   "cell_type": "code",
   "execution_count": 5,
   "metadata": {},
   "outputs": [],
   "source": [
    "import spacy\n",
    "import gradio as gr\n",
    "\n",
    "from neo4j import GraphDatabase"
   ]
  },
  {
   "cell_type": "code",
   "execution_count": 6,
   "metadata": {},
   "outputs": [],
   "source": [
    "driver = GraphDatabase.driver('bolt://54.89.241.3:7687', auth=('chattels-ceilings-release'))"
   ]
  },
  {
   "cell_type": "code",
   "execution_count": null,
   "metadata": {},
   "outputs": [],
   "source": [
    "nlp = spacy.load('en_core_web_sm')"
   ]
  },
  {
   "cell_type": "code",
   "execution_count": 12,
   "metadata": {},
   "outputs": [],
   "source": [
    "def extract_entity(question, entity_type):\n",
    "    doc = nlp(question)\n",
    "    for ent in doc.ents:\n",
    "        if ent.label_ in entity_type:\n",
    "            return ent.text\n",
    "    return None"
   ]
  },
  {
   "cell_type": "code",
   "execution_count": 11,
   "metadata": {},
   "outputs": [],
   "source": [
    "def get_answer(question):\n",
    "    doc = nlp(question)\n",
    "    movie_title = extract_entity(question, [\"WORK_OF_ART\", \"MOVIE\"])\n",
    "    director_name = extract_entity(question, [\"PERSON\"])\n",
    "    if movie_title is None:\n",
    "        return \"Sorry, I don't understand what movie you're asking about.\"\n",
    "    \n",
    "    with driver.session() as session:\n",
    "        if \"release\" in question or \"released\" in question:\n",
    "            result = session.run(f\"MATCH (m:Movie) WHERE m.title = '{movie_title}' RETURN m.released\")\n",
    "            if result.peek() is None:\n",
    "                return f\"No information found for the movie '{movie_title}'\"\n",
    "            for record in result:\n",
    "                return f\"The release date of '{movie_title}' is: {record['m.released']}\"\n",
    "        else:\n",
    "            return \"Sorry, I don't understand what you're asking.\""
   ]
  },
  {
   "cell_type": "code",
   "execution_count": 8,
   "metadata": {},
   "outputs": [],
   "source": [
    "# def get_answer(question):\n",
    "#     movie_title = extract_entity(question, ['WORK_OF_ART', 'MOVIE'])\n",
    "#     director_name = extract_entity(question, ['PERSON'])\n",
    "\n",
    "#     if movie_title is None:\n",
    "#         return \"Sorry, I don't understand about the movie you are asking\"\n",
    "    \n",
    "#     with driver.session() as session:\n",
    "#         if 'release' in question or 'released' in question:\n",
    "#             result = session.run(f\"MATCH (m:Movie) WHERE m.title = '{movie_title}' RETURN m.released\")\n",
    "#             if result.peek() is None:\n",
    "#                 return f\"No information about the movie is found '{movie_title}'\"\n",
    "#             for record in result:\n",
    "#                 return f\"The release date of '{movie_title}' is: {record['m.released']}\"\n",
    "#         else:\n",
    "#             return \"Sorry, I don't understand what you are asking\""
   ]
  },
  {
   "cell_type": "code",
   "execution_count": 13,
   "metadata": {},
   "outputs": [],
   "source": [
    "def chatbot(input, history=[]):\n",
    "    output = get_answer(input)\n",
    "    history.append((input, output))\n",
    "    return history, history"
   ]
  },
  {
   "cell_type": "code",
   "execution_count": 14,
   "metadata": {},
   "outputs": [
    {
     "name": "stdout",
     "output_type": "stream",
     "text": [
      "Running on local URL:  http://127.0.0.1:7860\n",
      "\n",
      "To create a public link, set `share=True` in `launch()`.\n"
     ]
    },
    {
     "data": {
      "text/html": [
       "<div><iframe src=\"http://127.0.0.1:7860/\" width=\"100%\" height=\"500\" allow=\"autoplay; camera; microphone; clipboard-read; clipboard-write;\" frameborder=\"0\" allowfullscreen></iframe></div>"
      ],
      "text/plain": [
       "<IPython.core.display.HTML object>"
      ]
     },
     "metadata": {},
     "output_type": "display_data"
    },
    {
     "name": "stderr",
     "output_type": "stream",
     "text": [
      "Traceback (most recent call last):\n",
      "  File \"c:\\Users\\shaur\\anaconda3\\envs\\rasa_bot\\lib\\site-packages\\gradio\\queueing.py\", line 521, in process_events\n",
      "    response = await route_utils.call_process_api(\n",
      "  File \"c:\\Users\\shaur\\anaconda3\\envs\\rasa_bot\\lib\\site-packages\\gradio\\route_utils.py\", line 276, in call_process_api\n",
      "    output = await app.get_blocks().process_api(\n",
      "  File \"c:\\Users\\shaur\\anaconda3\\envs\\rasa_bot\\lib\\site-packages\\gradio\\blocks.py\", line 1945, in process_api\n",
      "    result = await self.call_function(\n",
      "  File \"c:\\Users\\shaur\\anaconda3\\envs\\rasa_bot\\lib\\site-packages\\gradio\\blocks.py\", line 1513, in call_function\n",
      "    prediction = await anyio.to_thread.run_sync(\n",
      "  File \"c:\\Users\\shaur\\anaconda3\\envs\\rasa_bot\\lib\\site-packages\\anyio\\to_thread.py\", line 56, in run_sync\n",
      "    return await get_async_backend().run_sync_in_worker_thread(\n",
      "  File \"c:\\Users\\shaur\\anaconda3\\envs\\rasa_bot\\lib\\site-packages\\anyio\\_backends\\_asyncio.py\", line 2177, in run_sync_in_worker_thread\n",
      "    return await future\n",
      "  File \"c:\\Users\\shaur\\anaconda3\\envs\\rasa_bot\\lib\\site-packages\\anyio\\_backends\\_asyncio.py\", line 859, in run\n",
      "    result = context.run(func, *args)\n",
      "  File \"c:\\Users\\shaur\\anaconda3\\envs\\rasa_bot\\lib\\site-packages\\gradio\\utils.py\", line 831, in wrapper\n",
      "    response = f(*args, **kwargs)\n",
      "  File \"C:\\Users\\shaur\\AppData\\Local\\Temp\\ipykernel_25108\\3609766832.py\", line 2, in chatbot\n",
      "    output = get_answer(input)\n",
      "  File \"C:\\Users\\shaur\\AppData\\Local\\Temp\\ipykernel_25108\\3411198037.py\", line 2, in get_answer\n",
      "    doc = nlp(question)\n",
      "NameError: name 'nlp' is not defined\n",
      "Traceback (most recent call last):\n",
      "  File \"c:\\Users\\shaur\\anaconda3\\envs\\rasa_bot\\lib\\site-packages\\gradio\\queueing.py\", line 521, in process_events\n",
      "    response = await route_utils.call_process_api(\n",
      "  File \"c:\\Users\\shaur\\anaconda3\\envs\\rasa_bot\\lib\\site-packages\\gradio\\route_utils.py\", line 276, in call_process_api\n",
      "    output = await app.get_blocks().process_api(\n",
      "  File \"c:\\Users\\shaur\\anaconda3\\envs\\rasa_bot\\lib\\site-packages\\gradio\\blocks.py\", line 1945, in process_api\n",
      "    result = await self.call_function(\n",
      "  File \"c:\\Users\\shaur\\anaconda3\\envs\\rasa_bot\\lib\\site-packages\\gradio\\blocks.py\", line 1513, in call_function\n",
      "    prediction = await anyio.to_thread.run_sync(\n",
      "  File \"c:\\Users\\shaur\\anaconda3\\envs\\rasa_bot\\lib\\site-packages\\anyio\\to_thread.py\", line 56, in run_sync\n",
      "    return await get_async_backend().run_sync_in_worker_thread(\n",
      "  File \"c:\\Users\\shaur\\anaconda3\\envs\\rasa_bot\\lib\\site-packages\\anyio\\_backends\\_asyncio.py\", line 2177, in run_sync_in_worker_thread\n",
      "    return await future\n",
      "  File \"c:\\Users\\shaur\\anaconda3\\envs\\rasa_bot\\lib\\site-packages\\anyio\\_backends\\_asyncio.py\", line 859, in run\n",
      "    result = context.run(func, *args)\n",
      "  File \"c:\\Users\\shaur\\anaconda3\\envs\\rasa_bot\\lib\\site-packages\\gradio\\utils.py\", line 831, in wrapper\n",
      "    response = f(*args, **kwargs)\n",
      "  File \"C:\\Users\\shaur\\AppData\\Local\\Temp\\ipykernel_25108\\3609766832.py\", line 2, in chatbot\n",
      "    output = get_answer(input)\n",
      "  File \"C:\\Users\\shaur\\AppData\\Local\\Temp\\ipykernel_25108\\3411198037.py\", line 2, in get_answer\n",
      "    doc = nlp(question)\n",
      "NameError: name 'nlp' is not defined\n",
      "Traceback (most recent call last):\n",
      "  File \"c:\\Users\\shaur\\anaconda3\\envs\\rasa_bot\\lib\\site-packages\\gradio\\queueing.py\", line 521, in process_events\n",
      "    response = await route_utils.call_process_api(\n",
      "  File \"c:\\Users\\shaur\\anaconda3\\envs\\rasa_bot\\lib\\site-packages\\gradio\\route_utils.py\", line 276, in call_process_api\n",
      "    output = await app.get_blocks().process_api(\n",
      "  File \"c:\\Users\\shaur\\anaconda3\\envs\\rasa_bot\\lib\\site-packages\\gradio\\blocks.py\", line 1945, in process_api\n",
      "    result = await self.call_function(\n",
      "  File \"c:\\Users\\shaur\\anaconda3\\envs\\rasa_bot\\lib\\site-packages\\gradio\\blocks.py\", line 1513, in call_function\n",
      "    prediction = await anyio.to_thread.run_sync(\n",
      "  File \"c:\\Users\\shaur\\anaconda3\\envs\\rasa_bot\\lib\\site-packages\\anyio\\to_thread.py\", line 56, in run_sync\n",
      "    return await get_async_backend().run_sync_in_worker_thread(\n",
      "  File \"c:\\Users\\shaur\\anaconda3\\envs\\rasa_bot\\lib\\site-packages\\anyio\\_backends\\_asyncio.py\", line 2177, in run_sync_in_worker_thread\n",
      "    return await future\n",
      "  File \"c:\\Users\\shaur\\anaconda3\\envs\\rasa_bot\\lib\\site-packages\\anyio\\_backends\\_asyncio.py\", line 859, in run\n",
      "    result = context.run(func, *args)\n",
      "  File \"c:\\Users\\shaur\\anaconda3\\envs\\rasa_bot\\lib\\site-packages\\gradio\\utils.py\", line 831, in wrapper\n",
      "    response = f(*args, **kwargs)\n",
      "  File \"C:\\Users\\shaur\\AppData\\Local\\Temp\\ipykernel_25108\\3609766832.py\", line 2, in chatbot\n",
      "    output = get_answer(input)\n",
      "  File \"C:\\Users\\shaur\\AppData\\Local\\Temp\\ipykernel_25108\\3411198037.py\", line 2, in get_answer\n",
      "    doc = nlp(question)\n",
      "NameError: name 'nlp' is not defined\n"
     ]
    },
    {
     "name": "stdout",
     "output_type": "stream",
     "text": [
      "Keyboard interruption in main thread... closing server.\n"
     ]
    },
    {
     "data": {
      "text/plain": []
     },
     "execution_count": 14,
     "metadata": {},
     "output_type": "execute_result"
    }
   ],
   "source": [
    "gr.Interface(fn = chatbot,\n",
    "             inputs = [\"text\",'state'],\n",
    "             outputs = [\"chatbot\",'state']).launch(debug = True)"
   ]
  }
 ],
 "metadata": {
  "kernelspec": {
   "display_name": "rasa_bot",
   "language": "python",
   "name": "python3"
  },
  "language_info": {
   "codemirror_mode": {
    "name": "ipython",
    "version": 3
   },
   "file_extension": ".py",
   "mimetype": "text/x-python",
   "name": "python",
   "nbconvert_exporter": "python",
   "pygments_lexer": "ipython3",
   "version": "3.10.13"
  }
 },
 "nbformat": 4,
 "nbformat_minor": 2
}
