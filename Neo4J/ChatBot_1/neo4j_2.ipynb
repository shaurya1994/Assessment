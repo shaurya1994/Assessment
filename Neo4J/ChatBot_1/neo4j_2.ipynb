{
 "cells": [
  {
   "cell_type": "code",
   "execution_count": 4,
   "metadata": {},
   "outputs": [],
   "source": [
    "import os\n",
    "from neo4j import GraphDatabase"
   ]
  },
  {
   "cell_type": "code",
   "execution_count": 9,
   "metadata": {},
   "outputs": [
    {
     "ename": "ConfigurationError",
     "evalue": "URI scheme b'' is not supported. Supported URI schemes are ['bolt', 'bolt+ssc', 'bolt+s', 'neo4j', 'neo4j+ssc', 'neo4j+s']. Examples: bolt://host[:port] or neo4j://host[:port][?routing_context]",
     "output_type": "error",
     "traceback": [
      "\u001b[1;31m---------------------------------------------------------------------------\u001b[0m",
      "\u001b[1;31mConfigurationError\u001b[0m                        Traceback (most recent call last)",
      "Cell \u001b[1;32mIn[9], line 1\u001b[0m\n\u001b[1;32m----> 1\u001b[0m driver \u001b[38;5;241m=\u001b[39m \u001b[43mGraphDatabase\u001b[49m\u001b[38;5;241;43m.\u001b[39;49m\u001b[43mdriver\u001b[49m\u001b[43m(\u001b[49m\n\u001b[0;32m      2\u001b[0m \u001b[43m  \u001b[49m\u001b[43mNEO4J_URI\u001b[49m\u001b[43m,\u001b[49m\u001b[43m \u001b[49m\n\u001b[0;32m      3\u001b[0m \u001b[43m  \u001b[49m\u001b[43mauth\u001b[49m\u001b[38;5;241;43m=\u001b[39;49m\u001b[43m(\u001b[49m\u001b[43mNEO4J_USERNAME\u001b[49m\u001b[43m,\u001b[49m\u001b[43m \u001b[49m\u001b[43mNEO4J_PASSWORD\u001b[49m\u001b[43m)\u001b[49m\u001b[43m,\u001b[49m\u001b[43m \u001b[49m\n\u001b[0;32m      4\u001b[0m \u001b[43m)\u001b[49m\n",
      "File \u001b[1;32mc:\\Users\\shaur\\anaconda3\\envs\\rasa_bot\\lib\\site-packages\\neo4j\\_sync\\driver.py:197\u001b[0m, in \u001b[0;36mGraphDatabase.driver\u001b[1;34m(cls, uri, auth, **config)\u001b[0m\n\u001b[0;32m    178\u001b[0m \u001b[38;5;129m@classmethod\u001b[39m\n\u001b[0;32m    179\u001b[0m \u001b[38;5;28;01mdef\u001b[39;00m \u001b[38;5;21mdriver\u001b[39m(\n\u001b[0;32m    180\u001b[0m     \u001b[38;5;28mcls\u001b[39m,\n\u001b[1;32m   (...)\u001b[0m\n\u001b[0;32m    184\u001b[0m     \u001b[38;5;241m*\u001b[39m\u001b[38;5;241m*\u001b[39mconfig\n\u001b[0;32m    185\u001b[0m ) \u001b[38;5;241m-\u001b[39m\u001b[38;5;241m>\u001b[39m Driver:\n\u001b[0;32m    186\u001b[0m \u001b[38;5;250m    \u001b[39m\u001b[38;5;124;03m\"\"\"Create a driver.\u001b[39;00m\n\u001b[0;32m    187\u001b[0m \n\u001b[0;32m    188\u001b[0m \u001b[38;5;124;03m    :param uri: the connection URI for the driver,\u001b[39;00m\n\u001b[1;32m   (...)\u001b[0m\n\u001b[0;32m    194\u001b[0m \u001b[38;5;124;03m        key-word arguments.\u001b[39;00m\n\u001b[0;32m    195\u001b[0m \u001b[38;5;124;03m    \"\"\"\u001b[39;00m\n\u001b[1;32m--> 197\u001b[0m     driver_type, security_type, parsed \u001b[38;5;241m=\u001b[39m \u001b[43mparse_neo4j_uri\u001b[49m\u001b[43m(\u001b[49m\u001b[43muri\u001b[49m\u001b[43m)\u001b[49m\n\u001b[0;32m    199\u001b[0m     \u001b[38;5;28;01mif\u001b[39;00m \u001b[38;5;129;01mnot\u001b[39;00m \u001b[38;5;28misinstance\u001b[39m(auth, AuthManager):\n\u001b[0;32m    200\u001b[0m         auth \u001b[38;5;241m=\u001b[39m AuthManagers\u001b[38;5;241m.\u001b[39mstatic(auth)\n",
      "File \u001b[1;32mc:\\Users\\shaur\\anaconda3\\envs\\rasa_bot\\lib\\site-packages\\neo4j\\api.py:509\u001b[0m, in \u001b[0;36mparse_neo4j_uri\u001b[1;34m(uri)\u001b[0m\n\u001b[0;32m    507\u001b[0m     security_type \u001b[38;5;241m=\u001b[39m SECURITY_TYPE_SECURE\n\u001b[0;32m    508\u001b[0m \u001b[38;5;28;01melse\u001b[39;00m:\n\u001b[1;32m--> 509\u001b[0m     \u001b[38;5;28;01mraise\u001b[39;00m ConfigurationError(\u001b[38;5;124m\"\u001b[39m\u001b[38;5;124mURI scheme \u001b[39m\u001b[38;5;132;01m{!r}\u001b[39;00m\u001b[38;5;124m is not supported. Supported URI schemes are \u001b[39m\u001b[38;5;132;01m{}\u001b[39;00m\u001b[38;5;124m. Examples: bolt://host[:port] or neo4j://host[:port][?routing_context]\u001b[39m\u001b[38;5;124m\"\u001b[39m\u001b[38;5;241m.\u001b[39mformat(\n\u001b[0;32m    510\u001b[0m         parsed\u001b[38;5;241m.\u001b[39mscheme,\n\u001b[0;32m    511\u001b[0m         [\n\u001b[0;32m    512\u001b[0m             URI_SCHEME_BOLT,\n\u001b[0;32m    513\u001b[0m             URI_SCHEME_BOLT_SELF_SIGNED_CERTIFICATE,\n\u001b[0;32m    514\u001b[0m             URI_SCHEME_BOLT_SECURE,\n\u001b[0;32m    515\u001b[0m             URI_SCHEME_NEO4J,\n\u001b[0;32m    516\u001b[0m             URI_SCHEME_NEO4J_SELF_SIGNED_CERTIFICATE,\n\u001b[0;32m    517\u001b[0m             URI_SCHEME_NEO4J_SECURE\n\u001b[0;32m    518\u001b[0m         ]\n\u001b[0;32m    519\u001b[0m     ))\n\u001b[0;32m    521\u001b[0m \u001b[38;5;28;01mreturn\u001b[39;00m driver_type, security_type, parsed\n",
      "\u001b[1;31mConfigurationError\u001b[0m: URI scheme b'' is not supported. Supported URI schemes are ['bolt', 'bolt+ssc', 'bolt+s', 'neo4j', 'neo4j+ssc', 'neo4j+s']. Examples: bolt://host[:port] or neo4j://host[:port][?routing_context]"
     ]
    }
   ],
   "source": [
    "# driver = GraphDatabase.driver(\n",
    "#   NEO4J_URI, \n",
    "#   auth=(NEO4J_USERNAME, NEO4J_PASSWORD), \n",
    "# )"
   ]
  },
  {
   "cell_type": "code",
   "execution_count": null,
   "metadata": {},
   "outputs": [],
   "source": [
    "# def init_driver(uri, username, password):\n",
    "#     # Create an instance of the driver\n",
    "#     current_app.driver = GraphDatabase.driver(uri, auth=(username, password))\n",
    "\n",
    "#     # Verify Connectivity\n",
    "#     current_app.driver.verify_connectivity()\n",
    "\n",
    "#     return current_app.driver"
   ]
  },
  {
   "cell_type": "code",
   "execution_count": null,
   "metadata": {},
   "outputs": [],
   "source": [
    "# def init_driver(NEO4J_URI, NEO4J_USERNAME, NEO4J_PASSWORD):\n",
    "    # current_app.driver = None\n",
    "    # return none"
   ]
  },
  {
   "cell_type": "code",
   "execution_count": 16,
   "metadata": {},
   "outputs": [],
   "source": [
    "# Define the Neo4j connection details\n",
    "uri = 'bolt://3.235.199.107:7687'\n",
    "username = 'neo4j'\n",
    "password = 'animal-consideration-snaps'"
   ]
  },
  {
   "cell_type": "code",
   "execution_count": 11,
   "metadata": {},
   "outputs": [],
   "source": [
    "# Define a function to execute a query\n",
    "def run_query(query):\n",
    "    # Connect to the Neo4j database\n",
    "    with GraphDatabase.driver(uri, auth=(username, password)) as driver:\n",
    "        # Start a session\n",
    "        with driver.session() as session:\n",
    "            # Execute the query and return the result\n",
    "            result = session.run(query)\n",
    "            return result"
   ]
  },
  {
   "cell_type": "code",
   "execution_count": null,
   "metadata": {},
   "outputs": [],
   "source": [
    "# Example query: Retrieve all nodes and relationships in the database\n",
    "query = \"MATCH (a:Person{name:'Tom Cruise'})-[:ACTED_IN]->(m:Movie) RETURN m.title, m.imdbRating limit 3\"\n",
    "result = run_query(query)\n",
    "\n",
    "info = result.consume()\n",
    "record = result.single()\n",
    "value = record.value()\n",
    "\n",
    "type(record)\n",
    "type(value)\n",
    "type(info)\n",
    "\n",
    "\n",
    "\n",
    "# temp = list(records)\n",
    "# print(temp)\n",
    "\n",
    "\n",
    "\n",
    "# print('Result:', type(result))\n",
    "\n",
    "# type(result)\n",
    "\n",
    "# print('Records:', type(records))\n",
    "\n",
    "# for rec in temp:\n",
    "#     print(rec)\n",
    "\n",
    "# Process the result\n",
    "# for record in result:\n",
    "#     print(record)\n",
    "\n",
    "# records = list(result)  # Convert the result to a list\n",
    "# for record in records:\n",
    "#     print(record)\n",
    "\n",
    "# Iterate over the result and print each record\n",
    "# for record in result:\n",
    "#     print(record)\n"
   ]
  },
  {
   "cell_type": "code",
   "execution_count": 35,
   "metadata": {},
   "outputs": [
    {
     "ename": "ResultConsumedError",
     "evalue": "The result has been consumed. Fetch all needed records before calling Result.consume().",
     "output_type": "error",
     "traceback": [
      "\u001b[1;31m---------------------------------------------------------------------------\u001b[0m",
      "\u001b[1;31mResultConsumedError\u001b[0m                       Traceback (most recent call last)",
      "Cell \u001b[1;32mIn[35], line 20\u001b[0m\n\u001b[0;32m     17\u001b[0m result \u001b[38;5;241m=\u001b[39m run_query(query)\n\u001b[0;32m     19\u001b[0m \u001b[38;5;66;03m# Process all records\u001b[39;00m\n\u001b[1;32m---> 20\u001b[0m \u001b[38;5;28;01mfor\u001b[39;00m record \u001b[38;5;129;01min\u001b[39;00m result:\n\u001b[0;32m     21\u001b[0m     value \u001b[38;5;241m=\u001b[39m record[\u001b[38;5;124m\"\u001b[39m\u001b[38;5;124mn\u001b[39m\u001b[38;5;124m\"\u001b[39m]\n\u001b[0;32m     22\u001b[0m     \u001b[38;5;28mprint\u001b[39m(value)\n",
      "File \u001b[1;32mc:\\Users\\shaur\\anaconda3\\envs\\rasa_bot\\lib\\site-packages\\neo4j\\_sync\\work\\result.py:285\u001b[0m, in \u001b[0;36mResult.__iter__\u001b[1;34m(self)\u001b[0m\n\u001b[0;32m    283\u001b[0m     \u001b[38;5;28;01mraise\u001b[39;00m ResultConsumedError(\u001b[38;5;28mself\u001b[39m, _RESULT_OUT_OF_SCOPE_ERROR)\n\u001b[0;32m    284\u001b[0m \u001b[38;5;28;01mif\u001b[39;00m \u001b[38;5;28mself\u001b[39m\u001b[38;5;241m.\u001b[39m_consumed:\n\u001b[1;32m--> 285\u001b[0m     \u001b[38;5;28;01mraise\u001b[39;00m ResultConsumedError(\u001b[38;5;28mself\u001b[39m, _RESULT_CONSUMED_ERROR)\n",
      "\u001b[1;31mResultConsumedError\u001b[0m: The result has been consumed. Fetch all needed records before calling Result.consume()."
     ]
    }
   ],
   "source": [
    "# Define your Neo4j connection parameters\n",
    "uri = 'bolt://3.235.199.107:7687'\n",
    "username = 'neo4j'\n",
    "password = 'animal-consideration-snaps'\n",
    "\n",
    "# Define your query function\n",
    "def run_query(query):\n",
    "    with GraphDatabase.driver(uri, auth=(username, password)) as driver:\n",
    "        with driver.session() as session:\n",
    "            result = session.run(query)\n",
    "            return result\n",
    "\n",
    "# Example query\n",
    "query = \"MATCH (a:Person{name:'Tom Cruise'})-[:ACTED_IN]->(m:Movie) RETURN m.title, m.imdbRating limit 3\"\n",
    "\n",
    "# Run the query\n",
    "result = run_query(query)\n",
    "\n",
    "# Process all records\n",
    "for record in result:\n",
    "    value = record[\"n\"]\n",
    "    print(value)\n",
    "\n",
    "# Optionally, consume the result after processing all records\n",
    "# result.consume()"
   ]
  },
  {
   "cell_type": "code",
   "execution_count": 37,
   "metadata": {},
   "outputs": [
    {
     "ename": "ResultConsumedError",
     "evalue": "The result has been consumed. Fetch all needed records before calling Result.consume().",
     "output_type": "error",
     "traceback": [
      "\u001b[1;31m---------------------------------------------------------------------------\u001b[0m",
      "\u001b[1;31mResultConsumedError\u001b[0m                       Traceback (most recent call last)",
      "Cell \u001b[1;32mIn[37], line 23\u001b[0m\n\u001b[0;32m     20\u001b[0m result \u001b[38;5;241m=\u001b[39m run_query(query)\n\u001b[0;32m     22\u001b[0m \u001b[38;5;66;03m# Fetch all records into a list\u001b[39;00m\n\u001b[1;32m---> 23\u001b[0m records \u001b[38;5;241m=\u001b[39m \u001b[38;5;28;43mlist\u001b[39;49m\u001b[43m(\u001b[49m\u001b[43mresult\u001b[49m\u001b[43m)\u001b[49m\n\u001b[0;32m     25\u001b[0m \u001b[38;5;66;03m# # Process all records\u001b[39;00m\n\u001b[0;32m     26\u001b[0m \u001b[38;5;66;03m# for record in records:\u001b[39;00m\n\u001b[0;32m     27\u001b[0m \u001b[38;5;66;03m#     value = record[\"n\"]\u001b[39;00m\n\u001b[0;32m     28\u001b[0m \u001b[38;5;66;03m#     print(value)\u001b[39;00m\n\u001b[0;32m     29\u001b[0m \n\u001b[0;32m     30\u001b[0m \u001b[38;5;66;03m# Process all records\u001b[39;00m\n\u001b[0;32m     31\u001b[0m \u001b[38;5;28;01mfor\u001b[39;00m record \u001b[38;5;129;01min\u001b[39;00m records:\n",
      "File \u001b[1;32mc:\\Users\\shaur\\anaconda3\\envs\\rasa_bot\\lib\\site-packages\\neo4j\\_sync\\work\\result.py:285\u001b[0m, in \u001b[0;36mResult.__iter__\u001b[1;34m(self)\u001b[0m\n\u001b[0;32m    283\u001b[0m     \u001b[38;5;28;01mraise\u001b[39;00m ResultConsumedError(\u001b[38;5;28mself\u001b[39m, _RESULT_OUT_OF_SCOPE_ERROR)\n\u001b[0;32m    284\u001b[0m \u001b[38;5;28;01mif\u001b[39;00m \u001b[38;5;28mself\u001b[39m\u001b[38;5;241m.\u001b[39m_consumed:\n\u001b[1;32m--> 285\u001b[0m     \u001b[38;5;28;01mraise\u001b[39;00m ResultConsumedError(\u001b[38;5;28mself\u001b[39m, _RESULT_CONSUMED_ERROR)\n",
      "\u001b[1;31mResultConsumedError\u001b[0m: The result has been consumed. Fetch all needed records before calling Result.consume()."
     ]
    }
   ],
   "source": [
    "from neo4j import GraphDatabase\n",
    "\n",
    "# Define your Neo4j connection parameters\n",
    "uri = 'bolt://3.235.199.107:7687'\n",
    "username = 'neo4j'\n",
    "password = 'animal-consideration-snaps'\n",
    "\n",
    "# Define your query function\n",
    "def run_query(query):\n",
    "    with GraphDatabase.driver(uri, auth=(username, password)) as driver:\n",
    "        with driver.session() as session:\n",
    "            result = session.run(query)\n",
    "            return result\n",
    "\n",
    "# Example query\n",
    "query = \"MATCH (a:Person{name:'Tom Cruise'})-[:ACTED_IN]->(m:Movie) RETURN m.title, m.imdbRating limit 3\"\n",
    "\n",
    "\n",
    "# Run the query\n",
    "result = run_query(query)\n",
    "\n",
    "# Fetch all records into a list\n",
    "records = list(result)\n",
    "\n",
    "# # Process all records\n",
    "# for record in records:\n",
    "#     value = record[\"n\"]\n",
    "#     print(value)\n",
    "\n",
    "# Process all records\n",
    "for record in records:\n",
    "    title = record[\"m.title\"]\n",
    "    imdb_rating = record[\"m.imdbRating\"]\n",
    "    print(title, imdb_rating)    \n"
   ]
  }
 ],
 "metadata": {
  "kernelspec": {
   "display_name": "rasa_bot",
   "language": "python",
   "name": "python3"
  },
  "language_info": {
   "codemirror_mode": {
    "name": "ipython",
    "version": 3
   },
   "file_extension": ".py",
   "mimetype": "text/x-python",
   "name": "python",
   "nbconvert_exporter": "python",
   "pygments_lexer": "ipython3",
   "version": "3.10.13"
  }
 },
 "nbformat": 4,
 "nbformat_minor": 2
}
