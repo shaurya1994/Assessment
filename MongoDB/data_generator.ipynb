{
 "cells": [
  {
   "cell_type": "code",
   "execution_count": 54,
   "metadata": {},
   "outputs": [
    {
     "name": "stdout",
     "output_type": "stream",
     "text": [
      "Data/animal_sightings.json file has been created with 100 objects.\n"
     ]
    }
   ],
   "source": [
    "import random\n",
    "import json\n",
    "from datetime import datetime, timedelta\n",
    "\n",
    "# Load data from JSON files\n",
    "with open('Data/nouns.json', 'r') as f:\n",
    "    prefix_nouns_data = json.load(f)[\"prefix_nouns\"] # Object name\n",
    "\n",
    "with open('Data/animals.json', 'r') as f:\n",
    "    animals_data = json.load(f)[\"animals\"]\n",
    "\n",
    "with open('Data/coordinates.json', 'r') as f:\n",
    "    states_data = json.load(f)[\"states\"]\n",
    "\n",
    "legendary_animals = []\n",
    "\n",
    "for _ in range(100):  # Generate 100 objects\n",
    "    animal = random.choice(animals_data)[\"animal_name\"] # Attribute name\n",
    "    random_prefix = random.choice(prefix_nouns_data)[\"noun\"]\n",
    "    # random_state = random.choice(states_data)[\"state_name\"] \n",
    "    random_state = random.choice(states_data)\n",
    "\n",
    "    # print(random_state)\n",
    "\n",
    "    # Generate a random value between 0.0000 and 0.9999\n",
    "    random_value = random.uniform(0.0, 1.0)\n",
    "\n",
    "    # Randomly choose to add or subtract the random value\n",
    "    operation = random.choice([\"add\", \"subtract\"])\n",
    "\n",
    "    if operation == \"add\":\n",
    "        latitude = round(random_state[\"latitude\"] + random_value, 4)\n",
    "        longitude = round(random_state[\"longitude\"] + random_value, 4)\n",
    "    else:\n",
    "        latitude = round(random_state[\"latitude\"] - random_value, 4)\n",
    "        longitude = round(random_state[\"longitude\"] - random_value, 4)\n",
    "\n",
    "    # Generate random date and time within the past 5 years\n",
    "    random_date = datetime.now() - timedelta(days=random.randint(0, 1825))\n",
    "    random_time = datetime.strptime(f\"{random.randint(0, 23):02}:{random.randint(0, 59):02}\", \"%H:%M\")\n",
    "\n",
    "    # print(animal)\n",
    "    # print(random_prefix)\n",
    "\n",
    "    legendary_animals.append(\n",
    "        {\n",
    "            \"animal_name\": f\"{random_prefix} {animal}\",\n",
    "            \"state_name\": random_state[\"state_name\"],\n",
    "            \"latitude\": latitude,\n",
    "            \"longitude\": longitude,\n",
    "            \"date\": random_date.strftime(\"%Y-%m-%d\"),\n",
    "            \"time\": random_time.strftime(\"%H:%M:%S\")\n",
    "        }\n",
    "    )\n",
    "\n",
    "# Write to a JSON file in the Data folder\n",
    "# with open('Data/animal_sightings.json', 'w') as json_file:\n",
    "#     json.dump({\"legendary_animal_sighting\": legendary_animals}, json_file, indent=4)\n",
    "\n",
    "\n",
    "# Write to a JSON file in the Data folder as an array (Required for mongoimport)\n",
    "with open('Data/animal_sightings.json', 'w') as json_file:\n",
    "    json.dump(legendary_animals, json_file, indent=4)\n",
    "\n",
    "\n",
    "print(\"Data/animal_sightings.json file has been created with 100 objects.\")\n"
   ]
  }
 ],
 "metadata": {
  "kernelspec": {
   "display_name": "rasa_bot",
   "language": "python",
   "name": "python3"
  },
  "language_info": {
   "codemirror_mode": {
    "name": "ipython",
    "version": 3
   },
   "file_extension": ".py",
   "mimetype": "text/x-python",
   "name": "python",
   "nbconvert_exporter": "python",
   "pygments_lexer": "ipython3",
   "version": "3.10.13"
  }
 },
 "nbformat": 4,
 "nbformat_minor": 2
}
