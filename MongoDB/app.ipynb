{
 "cells": [
  {
   "cell_type": "code",
   "execution_count": 26,
   "metadata": {},
   "outputs": [],
   "source": [
    "from pymongo import MongoClient\n",
    "from bson.objectid import ObjectId"
   ]
  },
  {
   "cell_type": "code",
   "execution_count": 3,
   "metadata": {},
   "outputs": [],
   "source": [
    "client = MongoClient('mongodb://127.0.0.1:27017/?directConnection=true&serverSelectionTimeoutMS=2000', 27017)"
   ]
  },
  {
   "cell_type": "code",
   "execution_count": 19,
   "metadata": {},
   "outputs": [],
   "source": [
    "# db = client.python_timeseries\n",
    "db = client.python_time_series\n",
    "people = db.people"
   ]
  },
  {
   "cell_type": "code",
   "execution_count": 21,
   "metadata": {},
   "outputs": [
    {
     "data": {
      "text/plain": [
       "<pymongo.results.InsertOneResult at 0x2607c88d9f0>"
      ]
     },
     "execution_count": 21,
     "metadata": {},
     "output_type": "execute_result"
    }
   ],
   "source": [
    "people.insert_one({\"name\": \"Brock Lesner\", \"Age\": 45})\n",
    "people.insert_one({\"name\": \"Triple H\", \"Age\": 55, \"Interest\": \"WWE\"})"
   ]
  },
  {
   "cell_type": "code",
   "execution_count": 43,
   "metadata": {},
   "outputs": [
    {
     "name": "stdout",
     "output_type": "stream",
     "text": [
      "{'_id': ObjectId('665dd8ae986e6a8bb9cdcdf6'), 'name': 'Mike', 'age': 30}\n",
      "{'_id': ObjectId('665dda8c986e6a8bb9cdcdf7'), 'name': 'Mia', 'age': 20, 'interest': ['C++', 'Python']}\n",
      "{'_id': ObjectId('665ddeb15f7cc8ab10562802'), 'name': 'Brock Lesner', 'Age': 45}\n",
      "{'_id': ObjectId('665ddeb15f7cc8ab10562803'), 'name': 'Triple H', 'Age': 55, 'Interest': 'WWE'}\n",
      "{'_id': ObjectId('665de4f85f7cc8ab10562804'), 'name': 'Brock Lesner', 'Age': 45}\n",
      "{'_id': ObjectId('665de4f85f7cc8ab10562805'), 'name': 'Goldberg', 'Age': 55, 'Interest': 'WWE'}\n",
      "{'_id': ObjectId('665de54a5f7cc8ab10562806'), 'name': 'Popat', 'Age': 15}\n"
     ]
    }
   ],
   "source": [
    "for person in people.find():\n",
    "    print(person)"
   ]
  },
  {
   "cell_type": "code",
   "execution_count": 24,
   "metadata": {},
   "outputs": [],
   "source": [
    "p_id = people.insert_one({\"name\": \"Popat\", \"Age\": 15}).inserted_id "
   ]
  },
  {
   "cell_type": "code",
   "execution_count": 25,
   "metadata": {},
   "outputs": [
    {
     "data": {
      "text/plain": [
       "ObjectId('665de54a5f7cc8ab10562806')"
      ]
     },
     "execution_count": 25,
     "metadata": {},
     "output_type": "execute_result"
    }
   ],
   "source": [
    "p_id"
   ]
  },
  {
   "cell_type": "code",
   "execution_count": 28,
   "metadata": {},
   "outputs": [],
   "source": [
    "# for person in people.find():\n",
    "    # print(person)"
   ]
  },
  {
   "cell_type": "code",
   "execution_count": 29,
   "metadata": {},
   "outputs": [
    {
     "name": "stdout",
     "output_type": "stream",
     "text": [
      "[{'_id': ObjectId('665de54a5f7cc8ab10562806'), 'name': 'Popat', 'Age': 15}]\n"
     ]
    }
   ],
   "source": [
    "print([p for p in people.find({'_id': ObjectId('665de54a5f7cc8ab10562806')})])"
   ]
  },
  {
   "cell_type": "code",
   "execution_count": 45,
   "metadata": {},
   "outputs": [
    {
     "name": "stdout",
     "output_type": "stream",
     "text": [
      "[{'_id': ObjectId('665ddeb15f7cc8ab10562802'), 'name': 'Brock Lesner', 'Age': 45}, {'_id': ObjectId('665ddeb15f7cc8ab10562803'), 'name': 'Triple H', 'Age': 55, 'Interest': 'WWE'}, {'_id': ObjectId('665de4f85f7cc8ab10562804'), 'name': 'Brock Lesner', 'Age': 45}, {'_id': ObjectId('665de4f85f7cc8ab10562805'), 'name': 'Goldberg', 'Age': 55, 'Interest': 'WWE'}, {'_id': ObjectId('665de54a5f7cc8ab10562806'), 'name': 'Popat', 'Age': 15}]\n"
     ]
    }
   ],
   "source": [
    "print([p for p in people.find({\"Age\": {\"$lt\": 60}})])"
   ]
  },
  {
   "cell_type": "code",
   "execution_count": 41,
   "metadata": {},
   "outputs": [
    {
     "name": "stdout",
     "output_type": "stream",
     "text": [
      "2\n"
     ]
    }
   ],
   "source": [
    "print(people.count_documents({'name': 'Triple H'}))"
   ]
  },
  {
   "cell_type": "code",
   "execution_count": 42,
   "metadata": {},
   "outputs": [
    {
     "data": {
      "text/plain": [
       "<pymongo.results.UpdateResult at 0x2607c88e800>"
      ]
     },
     "execution_count": 42,
     "metadata": {},
     "output_type": "execute_result"
    }
   ],
   "source": [
    "people.update_one({\"_id\": ObjectId(\"665de4f85f7cc8ab10562805\")}, {\"$set\": {\"name\": \"Goldberg\"}})\n",
    "# {'_id': ObjectId('665de4f85f7cc8ab10562805'), 'name': 'Triple H', 'Age': 55, 'Interest': 'WWE'}"
   ]
  }
 ],
 "metadata": {
  "kernelspec": {
   "display_name": "rasa_bot",
   "language": "python",
   "name": "python3"
  },
  "language_info": {
   "codemirror_mode": {
    "name": "ipython",
    "version": 3
   },
   "file_extension": ".py",
   "mimetype": "text/x-python",
   "name": "python",
   "nbconvert_exporter": "python",
   "pygments_lexer": "ipython3",
   "version": "3.10.13"
  }
 },
 "nbformat": 4,
 "nbformat_minor": 2
}
